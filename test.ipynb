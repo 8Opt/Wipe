{
 "cells": [
  {
   "cell_type": "code",
   "execution_count": 2,
   "metadata": {},
   "outputs": [
    {
     "ename": "PyFluvioError",
     "evalue": "WatchApi version not found",
     "output_type": "error",
     "traceback": [
      "\u001b[0;31m---------------------------------------------------------------------------\u001b[0m",
      "\u001b[0;31mPyFluvioError\u001b[0m                             Traceback (most recent call last)",
      "Cell \u001b[0;32mIn[2], line 10\u001b[0m\n\u001b[1;32m      6\u001b[0m PARTITION \u001b[38;5;241m=\u001b[39m \u001b[38;5;241m0\u001b[39m\n\u001b[1;32m      8\u001b[0m \u001b[38;5;28;01mif\u001b[39;00m \u001b[38;5;18m__name__\u001b[39m \u001b[38;5;241m==\u001b[39m \u001b[38;5;124m\"\u001b[39m\u001b[38;5;124m__main__\u001b[39m\u001b[38;5;124m\"\u001b[39m:\n\u001b[1;32m      9\u001b[0m    \u001b[38;5;66;03m# Connect to cluster\u001b[39;00m\n\u001b[0;32m---> 10\u001b[0m    fluvio \u001b[38;5;241m=\u001b[39m \u001b[43mFluvio\u001b[49m\u001b[38;5;241;43m.\u001b[39;49m\u001b[43mconnect\u001b[49m\u001b[43m(\u001b[49m\u001b[43m)\u001b[49m\n\u001b[1;32m     12\u001b[0m    \u001b[38;5;66;03m# Produce 10 records to topic\u001b[39;00m\n\u001b[1;32m     13\u001b[0m    producer \u001b[38;5;241m=\u001b[39m fluvio\u001b[38;5;241m.\u001b[39mtopic_producer(TOPIC_NAME)\n",
      "File \u001b[0;32m~/anaconda3/envs/octo/lib/python3.10/site-packages/fluvio/__init__.py:657\u001b[0m, in \u001b[0;36mFluvio.connect\u001b[0;34m(cls)\u001b[0m\n\u001b[1;32m    652\u001b[0m \u001b[38;5;129m@classmethod\u001b[39m\n\u001b[1;32m    653\u001b[0m \u001b[38;5;28;01mdef\u001b[39;00m \u001b[38;5;21mconnect\u001b[39m(\u001b[38;5;28mcls\u001b[39m):\n\u001b[1;32m    654\u001b[0m \u001b[38;5;250m    \u001b[39m\u001b[38;5;124;03m\"\"\"Tries to create a new Fluvio client using the current profile from\u001b[39;00m\n\u001b[1;32m    655\u001b[0m \u001b[38;5;124;03m    `~/.fluvio/config`\u001b[39;00m\n\u001b[1;32m    656\u001b[0m \u001b[38;5;124;03m    \"\"\"\u001b[39;00m\n\u001b[0;32m--> 657\u001b[0m     \u001b[38;5;28;01mreturn\u001b[39;00m \u001b[38;5;28mcls\u001b[39m(\u001b[43m_Fluvio\u001b[49m\u001b[38;5;241;43m.\u001b[39;49m\u001b[43mconnect\u001b[49m\u001b[43m(\u001b[49m\u001b[43m)\u001b[49m)\n",
      "\u001b[0;31mPyFluvioError\u001b[0m: WatchApi version not found"
     ]
    }
   ],
   "source": [
    "#!/usr/bin/env python\n",
    "from datetime import datetime\n",
    "from fluvio import Fluvio\n",
    "\n",
    "TOPIC_NAME = \"python-data\"\n",
    "PARTITION = 0\n",
    "\n",
    "if __name__ == \"__main__\":\n",
    "   # Connect to cluster\n",
    "   fluvio = Fluvio.connect()\n",
    "\n",
    "   # Produce 10 records to topic\n",
    "   producer = fluvio.topic_producer(TOPIC_NAME)\n",
    "   for x in range(10):\n",
    "       producer.send_string(\"{}: timestamp: {}\".format(x, datetime.now()))\n",
    "\n",
    "   # Flush the last entry\n",
    "   producer.flush()"
   ]
  },
  {
   "cell_type": "code",
   "execution_count": 3,
   "metadata": {},
   "outputs": [
    {
     "ename": "PyFluvioError",
     "evalue": "WatchApi version not found",
     "output_type": "error",
     "traceback": [
      "\u001b[0;31m---------------------------------------------------------------------------\u001b[0m",
      "\u001b[0;31mPyFluvioError\u001b[0m                             Traceback (most recent call last)",
      "Cell \u001b[0;32mIn[3], line 9\u001b[0m\n\u001b[1;32m      5\u001b[0m PARTITION \u001b[38;5;241m=\u001b[39m \u001b[38;5;241m0\u001b[39m\n\u001b[1;32m      7\u001b[0m \u001b[38;5;28;01mif\u001b[39;00m \u001b[38;5;18m__name__\u001b[39m \u001b[38;5;241m==\u001b[39m \u001b[38;5;124m\"\u001b[39m\u001b[38;5;124m__main__\u001b[39m\u001b[38;5;124m\"\u001b[39m:\n\u001b[1;32m      8\u001b[0m    \u001b[38;5;66;03m# Connect to cluster\u001b[39;00m\n\u001b[0;32m----> 9\u001b[0m    fluvio \u001b[38;5;241m=\u001b[39m \u001b[43mFluvio\u001b[49m\u001b[38;5;241;43m.\u001b[39;49m\u001b[43mconnect\u001b[49m\u001b[43m(\u001b[49m\u001b[43m)\u001b[49m\n\u001b[1;32m     11\u001b[0m    \u001b[38;5;66;03m# Consume last 10 records from topic\u001b[39;00m\n\u001b[1;32m     12\u001b[0m    consumer \u001b[38;5;241m=\u001b[39m fluvio\u001b[38;5;241m.\u001b[39mpartition_consumer(TOPIC_NAME, PARTITION)\n",
      "File \u001b[0;32m~/anaconda3/envs/octo/lib/python3.10/site-packages/fluvio/__init__.py:657\u001b[0m, in \u001b[0;36mFluvio.connect\u001b[0;34m(cls)\u001b[0m\n\u001b[1;32m    652\u001b[0m \u001b[38;5;129m@classmethod\u001b[39m\n\u001b[1;32m    653\u001b[0m \u001b[38;5;28;01mdef\u001b[39;00m \u001b[38;5;21mconnect\u001b[39m(\u001b[38;5;28mcls\u001b[39m):\n\u001b[1;32m    654\u001b[0m \u001b[38;5;250m    \u001b[39m\u001b[38;5;124;03m\"\"\"Tries to create a new Fluvio client using the current profile from\u001b[39;00m\n\u001b[1;32m    655\u001b[0m \u001b[38;5;124;03m    `~/.fluvio/config`\u001b[39;00m\n\u001b[1;32m    656\u001b[0m \u001b[38;5;124;03m    \"\"\"\u001b[39;00m\n\u001b[0;32m--> 657\u001b[0m     \u001b[38;5;28;01mreturn\u001b[39;00m \u001b[38;5;28mcls\u001b[39m(\u001b[43m_Fluvio\u001b[49m\u001b[38;5;241;43m.\u001b[39;49m\u001b[43mconnect\u001b[49m\u001b[43m(\u001b[49m\u001b[43m)\u001b[49m)\n",
      "\u001b[0;31mPyFluvioError\u001b[0m: WatchApi version not found"
     ]
    }
   ],
   "source": [
    "#!/usr/bin/env python\n",
    "from fluvio import Fluvio, Offset\n",
    "\n",
    "TOPIC_NAME = \"python-data\"\n",
    "PARTITION = 0\n",
    "\n",
    "if __name__ == \"__main__\":\n",
    "   # Connect to cluster\n",
    "   fluvio = Fluvio.connect()\n",
    "\n",
    "   # Consume last 10 records from topic\n",
    "   consumer = fluvio.partition_consumer(TOPIC_NAME, PARTITION)\n",
    "   for idx, record in enumerate( consumer.stream(Offset.from_end(10)) ):\n",
    "       print(\"{}\".format(record.value_string()))\n",
    "\n",
    "       if idx >= 9:\n",
    "           break"
   ]
  }
 ],
 "metadata": {
  "kernelspec": {
   "display_name": "octo",
   "language": "python",
   "name": "python3"
  },
  "language_info": {
   "codemirror_mode": {
    "name": "ipython",
    "version": 3
   },
   "file_extension": ".py",
   "mimetype": "text/x-python",
   "name": "python",
   "nbconvert_exporter": "python",
   "pygments_lexer": "ipython3",
   "version": "3.10.14"
  }
 },
 "nbformat": 4,
 "nbformat_minor": 2
}
