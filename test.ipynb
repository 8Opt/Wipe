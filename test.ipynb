{
 "cells": [
  {
   "cell_type": "code",
   "execution_count": 1,
   "metadata": {},
   "outputs": [
    {
     "data": {
      "text/plain": [
       "True"
      ]
     },
     "execution_count": 1,
     "metadata": {},
     "output_type": "execute_result"
    }
   ],
   "source": [
    "import os\n",
    "from dotenv import load_dotenv\n",
    "\n",
    "load_dotenv()"
   ]
  },
  {
   "cell_type": "code",
   "execution_count": 2,
   "metadata": {},
   "outputs": [],
   "source": [
    "os.environ['TAVILY_API_KEY'] = os.getenv('TAVILY_API_KEY')\n",
    "os.environ['GROQ_API_KEY'] = os.getenv('GROQ_API_KEY')\n",
    "os.environ['GOOGLE_API_KEY'] = os.getenv('GEMINI_API_KEY')"
   ]
  },
  {
   "cell_type": "code",
   "execution_count": 7,
   "metadata": {},
   "outputs": [
    {
     "name": "stderr",
     "output_type": "stream",
     "text": [
      "USER_AGENT environment variable not set, consider setting it to identify your requests.\n",
      "/home/octoopt/anaconda3/envs/quira/lib/python3.10/site-packages/pydantic/_internal/_config.py:341: UserWarning: Valid config keys have changed in V2:\n",
      "* 'schema_extra' has been renamed to 'json_schema_extra'\n",
      "  warnings.warn(message, UserWarning)\n",
      "/home/octoopt/anaconda3/envs/quira/lib/python3.10/site-packages/tqdm/auto.py:21: TqdmWarning: IProgress not found. Please update jupyter and ipywidgets. See https://ipywidgets.readthedocs.io/en/stable/user_install.html\n",
      "  from .autonotebook import tqdm as notebook_tqdm\n"
     ]
    },
    {
     "data": {
      "text/plain": [
       "([Article(id='f1826e07-2191-45e8-abcb-d374df4f1f56', title='3 big AI trends to watch in 2024', description='AI is expected to become more accessible, nuanced and integrated in technologies that help people. Here are three AI trends to watch in 2024.', source='https://news.microsoft.com/three-big-ai-trends-to-watch-in-2024/', summary=\"## AI Trends to Watch in 2024: Smaller, Smarter, and More Scientific\\n\\n2024 promises to see AI become more accessible, nuanced, and integrated into everyday life. Here are three key trends:\\n\\n**1. Rise of Small Language Models (SLMs):**  \\nWhile large language models (LLMs) like ChatGPT and Copilot have captured attention, SLMs offer a more efficient alternative. They're smaller, allowing them to run on devices like phones, making AI more affordable and widely available.  Despite their size, SLMs are proving to be just as powerful as LLMs in certain areas, thanks to focused training on high-quality data.\\n\\n**2. Multimodal AI:**\\nAI is moving beyond text-only processing, with multimodal models able to understand and interact with various data types, including images, audio, and video. This leads to more accurate and enriching experiences in search tools, creativity apps, and even personalized voice assistants.\\n\\n**3. AI in Science:**\\nAI is rapidly accelerating scientific discovery, tackling global challenges like climate change, disease, and energy crises.  AI-powered tools are being used to:\\n    * Improve weather prediction and build sustainable agriculture solutions.\\n    * Develop new drugs and therapies for infectious diseases and cancer.\\n    * Accelerate the search for new materials, like less toxic battery components.\\n\\nOverall, AI is evolving from a research tool to a practical solution with broad implications across various fields. Expect to see more innovative and accessible AI applications in the coming year. \\n\", created_at='2024-09-01T12:10:48.078560'),\n",
       "  Article(id='073442f4-7be2-4bbd-9010-01cb9ca5d769', title='The Future of AI: 10 Trends in Artificial Intelligence in 2024', description='Learn about the 10 AI trends in 2024 that will dictate the future of this technology worldwide in our article here.', source='https://www.algotive.ai/blog/the-future-of-ai-10-trends-in-artificial-intelligence-in-2024', summary=\"## The Future of AI: 10 Trends Shaping Productivity in 2024\\n\\nThis article explores the growing presence of AI in the workplace and identifies 10 key trends that will boost productivity in 2024:\\n\\n**AI Integration in the Workplace:**\\n\\n* **Automation:** AI is automating routine tasks, freeing up human workers for more complex roles.\\n* **Customer Service:** AI-powered chatbots provide 24/7 support, improving customer satisfaction.\\n* **Data Analysis:** AI analyzes company data to identify trends, risks, and opportunities, informing strategic decisions. \\n* **Safety:** AI helps detect fraud and potential safety hazards, enhancing workplace security. \\n\\n**AI-Driven Productivity Tools:**\\n\\n* **Task Management:** Apps like Any.do and Beedone help organize and prioritize tasks, improving efficiency.\\n* **AI Chatbots:** ChatGPT and Claude 2 provide user-friendly interfaces for research and content creation.\\n* **Project Management:** Asana facilitates collaboration and communication within teams, optimizing project workflows. \\n* **Meeting Transcription:** AI-powered note-takers automate meeting minutes, improving information accessibility.\\n* **Email Management:** AI tools categorize, prioritize, and even draft emails, reducing workload.\\n\\n**AI Trends Boosting Productivity in 2024:**\\n\\n1. **Autonomous Agents & Bots:** Smarter AI agents will offer more efficient customer service and faster response times.\\n2. **AI-Powered Analytics:** Real-time insights from data analysis will optimize performance and inform decision-making.\\n3. **Virtual & Augmented Reality:** VR and AR will provide immersive training experiences, enhancing employee skills.\\n4. **Edge Computing & AI:** Localized processing will accelerate decision-making and improve data security.\\n5. **AI in Supply Chain Optimization:** AI will streamline workflows, reduce costs, and improve delivery times.\\n6. **Natural Language Processing:** NLP will enhance communication tools, enabling better understanding and collaboration.\\n7. **Blockchain & AI Integration:** This combination will improve transaction security and transparency.\\n8. **AI in Energy Management:** AI will optimize energy consumption, reduce waste, and promote sustainability.\\n9. **Personalized AI Assistants:** AI assistants will manage schedules, organize meetings, and improve time management.\\n10. **Machine Learning for Predictive Maintenance:** AI will predict maintenance needs, minimizing downtime and reducing costs.\\n\\n**Key Takeaways:**\\n\\n* AI is rapidly becoming an integral part of the workplace, automating tasks, improving efficiency, and enhancing decision-making.\\n* While AI is transforming jobs, it's not replacing humans; instead, it's augmenting human capabilities.\\n* New skills and knowledge will be required to adapt to the changing workplace landscape.\\n* The ethical implications of AI must be considered to ensure responsible and fair implementation.\\n\\nThe article emphasizes the importance of embracing AI as a valuable tool for boosting productivity and achieving business goals. It encourages businesses to stay informed about evolving AI trends and proactively adapt to the changing technological landscape. \\n\", created_at='2024-09-01T12:10:48.078560'),\n",
       "  Article(id='cffed47f-c826-4892-971a-f55ded4ab6a4', title='The 10 Most Important AI Trends For 2024 Everyone Must Be Ready For Now', description='Dive into the transformative landscape of 2024, where artificial intelligence AI permeates every facet of our lives.', source='https://www.forbes.com/sites/bernardmarr/2023/09/18/the-10-most-important-ai-trends-for-2024-everyone-must-be-ready-for-now/', summary=\"The article outlines 10 key AI trends shaping 2024, highlighting its increasing impact on our lives. \\n\\n**Key Takeaways:**\\n\\n* **Generative AI Evolution:** Beyond chatbots and image generators, 2024 will see generative AI tools creating videos, music, and design elements, integrated into various platforms.\\n* **Ethical AI Focus:** Growing concern over AI's potential harm will drive efforts to mitigate bias, ensure transparency, and address job displacement.\\n* **AI in Customer Service:** AI will automate routine customer service tasks, allowing human agents to focus on complex issues.\\n* **Augmented Working:** AI tools will augment human capabilities in various fields, from legal work to medical diagnosis and software development.\\n* **AI-Augmented Apps:** Generative AI features will be embedded in existing software and apps across industries, improving customer experience.\\n* **Low-Code/No-Code Development:** AI tools will empower individuals to build applications with minimal coding, opening opportunities for non-technical creators.\\n* **New AI Jobs:** AI will create new roles like prompt engineers, AI managers, and ethicists, alongside traditional AI engineering and DevOps jobs.\\n* **Quantum AI Advancements:** Quantum computing will accelerate AI development, enabling more complex algorithms and neural networks.\\n* **Upskilling for the AI Revolution:** Individuals and businesses need to adapt to AI by acquiring relevant skills and integrating AI into education and training.\\n* **AI Legislation:** Governments worldwide are developing regulations to address AI's impact on jobs, privacy, and society, with debates around ethical boundaries expected in 2024.\\n\\nThe article emphasizes that understanding and adapting to these trends is crucial for individuals and businesses to thrive in the AI-powered future. \\n\", created_at='2024-09-01T12:10:48.078560'),\n",
       "  Article(id='7fa1300c-ef7d-4829-aee0-3eebcfdf8c12', title='10 top AI and machine learning trends for 2024 | TechTarget', description='Discover the top 10 machine learning and AI trends for 2024 that are shaping technology and business, including multimodal, open source and customization.', source='https://www.techtarget.com/searchenterpriseai/tip/9-top-AI-and-machine-learning-trends', summary='## Top 10 AI and Machine Learning Trends for 2024: A Shift from Experimentation to Real-World Application\\n\\nThe year 2024 marks a turning point in AI, moving beyond experimentation and focusing on real-world applications. Here are the key trends shaping the landscape:\\n\\n**1. Multimodal AI:** AI is evolving beyond processing single data types (text) to encompass multiple inputs like images and sound, mimicking human sensory processing. This enables applications like recipe suggestions based on fridge photos and more accessible design/coding tools.\\n\\n**2. Agentic AI:** AI is becoming more proactive, with agents capable of understanding their environment, setting goals, and acting independently. This allows for tasks like real-time investment portfolio management and autonomous hazard prevention.\\n\\n**3. Open Source AI:** Open source models like Meta\\'s Llama 2 democratize AI access by lowering costs and encouraging collaboration. However, concerns remain regarding potential misuse and the challenges of building and maintaining complex models.\\n\\n**4. Retrieval Augmented Generation (RAG):** To combat the \"hallucination\" problem (AI generating plausible but inaccurate information), RAG combines text generation with information retrieval, improving accuracy and reducing reliance on massive models.\\n\\n**5. Customized Enterprise AI Models:** While large, general-purpose AI tools have captured public attention, businesses are increasingly focusing on smaller, niche models tailored to specific needs. This allows for cost-effective solutions and improved privacy/security.\\n\\n**6. AI Talent Shortage:** The demand for AI talent continues to grow, particularly for individuals with \"MLOps\" skills – deploying, monitoring, and maintaining AI systems in real-world environments. Diversity in AI teams is also crucial to mitigate bias.\\n\\n**7. Shadow AI:** Employees are increasingly using AI tools without explicit IT approval, posing security and data privacy risks. Organizations must develop governance frameworks to manage shadow AI while fostering innovation.\\n\\n**8. Generative AI Reality Check:** The initial excitement around generative AI is giving way to a more realistic assessment of its limitations, leading to a focus on realistic expectations, clear use cases, and measurable outcomes.\\n\\n**9. Increased Attention to AI Ethics and Security:** Concerns about misinformation, manipulation, and AI-enhanced cyberattacks are driving efforts to address ethical considerations and ensure transparency, fairness, and secure AI systems.\\n\\n**10. Evolving AI Regulation:** 2024 is shaping up to be a pivotal year for AI regulation, with the EU\\'s AI Act leading the way with comprehensive regulations. Organizations must adapt to evolving compliance requirements to avoid potential fines and penalties.\\n\\n**Overall, 2024 is poised to be a year of significant advancements in AI, marked by a shift toward practical applications, a focus on ethics and security, and a growing need for skilled professionals to navigate this evolving landscape.**\\n', created_at='2024-09-01T12:10:48.078560'),\n",
       "  Article(id='a60332e7-9495-47c7-851c-2eb82a9f52e0', title='The 10 Biggest Generative AI Trends For 2024 Everyone Must Be Ready For Now', description='Explore the future as we delve into the top 10 generative AI trends for 2024, uncovering ground-breaking innovations and societal impacts, from more powerful AI models', source='https://www.forbes.com/sites/bernardmarr/2023/10/02/the-10-biggest-generative-ai-trends-for-2024-everyone-must-be-ready-for-now/', summary='## Generative AI Trends for 2024: A Summary\\n\\nThis article outlines ten key trends in generative AI expected to dominate in 2024. \\n\\n**1. Bigger and More Powerful Models:** Generative AI models like GPT-4 are trained on massive datasets. Expect even larger models with increased processing power in 2024, leading to significant advancements in AI capabilities.\\n\\n**2. Electoral Interference:** Generative AI poses a threat to political integrity, with the potential for deepfakes, misinformation campaigns, and personalized propaganda. \\n\\n**3. Generative Design:** AI will revolutionize product design by automating the process. Designers can input requirements and receive blueprints and prototypes, leading to faster and more efficient design cycles.\\n\\n**4. Generative Video:** The growing popularity of video content will see AI tools create professional-quality videos at significantly lower costs.\\n\\n**5. Generative Audio and Speech:** AI-generated audio and speech will become more realistic and indistinguishable from human-generated content. \\n\\n**6. Multimodal Models:**  Generative AI will move beyond single modes of expression (text, image, audio) and become more versatile, capable of understanding and generating across multiple modalities.\\n\\n**7. Prompt Engineers in High Demand:**  The ability to effectively \"program\" generative AI through prompts will be a highly sought-after skill in 2024.\\n\\n**8. Autonomous Generative AI:**  AI agents that can operate independently, continuously generating and responding to prompts, will become more prevalent, enabling more sophisticated tasks.\\n\\n**9. Generative AI Augmented Apps and Services:**  Conversational AI will be integrated into enterprise applications, offering enhanced user experience and engagement. \\n\\n**10. Generative AI in Schools and Education:**  Generative AI will be increasingly used in education, sparking debates about its impact on learning. Teachers will utilize AI for generating notes, reports, and lesson plans, while students will benefit from its assistive capabilities.\\n\\n**Key Takeaways:**\\n\\n* Generative AI will continue its rapid evolution in 2024, with a focus on larger models, multi-modality, and autonomous operation.\\n* AI will disrupt various industries, from design and media to politics and education.\\n* Ethical considerations and the potential for misuse of AI technology are crucial issues to address. \\n* The ability to effectively interact with AI systems will be a valuable skill for individuals and businesses. \\n', created_at='2024-09-01T12:10:48.078560')],\n",
       " [Event(id='9a86f8fe-9ea0-40e2-9965-7e770f0663c2', title='Latest Trend in AI (2024) - 3 big AI trends to watch in 2024', article_id='f1826e07-2191-45e8-abcb-d374df4f1f56', created_at='2024-09-01T12:10:48.042375'),\n",
       "  Event(id='3678e085-c31e-40db-9e0e-1644b2c88031', title='Latest Trend in AI (2024) - The Future of AI: 10 Trends in Artificial Intelligence in 2024', article_id='073442f4-7be2-4bbd-9010-01cb9ca5d769', created_at='2024-09-01T12:10:48.042375'),\n",
       "  Event(id='8712f509-c30d-43f6-a547-22e6ee45989e', title='Latest Trend in AI (2024) - The 10 Most Important AI Trends For 2024 Everyone Must Be Ready For Now', article_id='cffed47f-c826-4892-971a-f55ded4ab6a4', created_at='2024-09-01T12:10:48.042375'),\n",
       "  Event(id='99528fb2-48e5-4a5d-b97e-dd16577a4587', title='Latest Trend in AI (2024) - 10 top AI and machine learning trends for 2024 | TechTarget', article_id='7fa1300c-ef7d-4829-aee0-3eebcfdf8c12', created_at='2024-09-01T12:10:48.042375'),\n",
       "  Event(id='5ef42d47-684d-4baa-a63e-41af4e3dcbf1', title='Latest Trend in AI (2024) - The 10 Biggest Generative AI Trends For 2024 Everyone Must Be Ready For Now', article_id='a60332e7-9495-47c7-851c-2eb82a9f52e0', created_at='2024-09-01T12:10:48.042375')])"
      ]
     },
     "execution_count": 7,
     "metadata": {},
     "output_type": "execute_result"
    }
   ],
   "source": [
    "from controller.news_features import get_latest_trend\n",
    "\n",
    "articles = get_latest_trend()\n",
    "articles"
   ]
  },
  {
   "cell_type": "code",
   "execution_count": 1,
   "metadata": {},
   "outputs": [],
   "source": [
    "from wipe.wipe_redis import WIPEDB\n",
    "\n",
    "db_config = {\n",
    "    \"host\": 'localhost', \n",
    "    \"port\": 6379, \n",
    "    \"decode_responses\": True\n",
    "}\n",
    "\n",
    "redis_db = WIPEDB(db_config=db_config)"
   ]
  },
  {
   "cell_type": "code",
   "execution_count": 5,
   "metadata": {},
   "outputs": [
    {
     "data": {
      "text/plain": [
       "Article(id='61e1fe1c-5f98-443c-aa48-a2994dbf44ce', title='The Top Artificial Intelligence Trends | IBM', description='Adapting to emerging trends is essential to maximizing potential, minimizing risk and responsibly scaling generative AI adoption.', source='https://www.ibm.com/think/insights/artificial-intelligence-trends', summary='## Key AI Trends Shaping 2024: From Multimodality to Regulation\\n\\nThis article from IBM highlights the most important AI trends to watch in 2024, focusing on the evolution of generative AI beyond the initial hype and its implications for businesses. \\n\\n**Key Takeaways:**\\n\\n* **Shifting Expectations:** Generative AI is moving from \"peak hype\" to a more realistic understanding of its capabilities. Businesses are integrating AI tools into existing workflows rather than relying solely on standalone solutions.\\n* **Multimodal AI:** The next frontier is multimodal AI, where models can process and generate multiple data types (text, images, video, etc.). This enables more intuitive and versatile applications like AI assistants that can understand and respond to complex queries.\\n* **Smaller Models:** The focus is shifting towards smaller, more efficient models, driven by increasing hardware costs and the desire for local deployment. Smaller models are easier to train, less resource-intensive, and can be run on edge devices, addressing privacy and security concerns.\\n* **Open Source Advancements:** Open source models and tools are democratizing AI, empowering smaller organizations to develop customized solutions. This is particularly relevant in industries like finance, healthcare, and law where specialized data and models are crucial.\\n* **Virtual Agents:** With enhanced capabilities, virtual agents are moving beyond simple chatbots towards task automation and seamless interaction with multimodal AI.\\n* **Regulation and Ethical Concerns:** The rapid development of AI raises significant ethical concerns, leading to increased regulation and scrutiny. Copyright and data privacy issues are particularly challenging, requiring careful consideration for responsible AI development and deployment.\\n* **Shadow AI:** Businesses must be aware of \"shadow AI,\" where employees utilize generative AI tools without proper oversight. This can lead to security, privacy, and compliance risks.\\n\\n**Overall, 2024 is a pivotal year for AI, with the focus shifting towards responsible adoption, practical applications, and addressing emerging ethical and regulatory challenges.** \\n', created_at='2024-09-01T11:42:41.490570')"
      ]
     },
     "execution_count": 5,
     "metadata": {},
     "output_type": "execute_result"
    }
   ],
   "source": [
    "sample = articles[0]\n",
    "sample"
   ]
  },
  {
   "cell_type": "code",
   "execution_count": 8,
   "metadata": {},
   "outputs": [
    {
     "name": "stderr",
     "output_type": "stream",
     "text": [
      "/home/octoopt/anaconda3/envs/quira/lib/python3.10/site-packages/pydantic/main.py:364: UserWarning: Pydantic serializer warnings:\n",
      "  Expected `datetime` but got `str` - serialized value may not be as expected\n",
      "  return self.__pydantic_serializer__.to_python(\n"
     ]
    },
    {
     "data": {
      "text/plain": [
       "'{\"id\": \"61e1fe1c-5f98-443c-aa48-a2994dbf44ce\", \"title\": \"The Top Artificial Intelligence Trends | IBM\", \"description\": \"Adapting to emerging trends is essential to maximizing potential, minimizing risk and responsibly scaling generative AI adoption.\", \"source\": \"https://www.ibm.com/think/insights/artificial-intelligence-trends\", \"summary\": \"## Key AI Trends Shaping 2024: From Multimodality to Regulation\\\\n\\\\nThis article from IBM highlights the most important AI trends to watch in 2024, focusing on the evolution of generative AI beyond the initial hype and its implications for businesses. \\\\n\\\\n**Key Takeaways:**\\\\n\\\\n* **Shifting Expectations:** Generative AI is moving from \\\\\"peak hype\\\\\" to a more realistic understanding of its capabilities. Businesses are integrating AI tools into existing workflows rather than relying solely on standalone solutions.\\\\n* **Multimodal AI:** The next frontier is multimodal AI, where models can process and generate multiple data types (text, images, video, etc.). This enables more intuitive and versatile applications like AI assistants that can understand and respond to complex queries.\\\\n* **Smaller Models:** The focus is shifting towards smaller, more efficient models, driven by increasing hardware costs and the desire for local deployment. Smaller models are easier to train, less resource-intensive, and can be run on edge devices, addressing privacy and security concerns.\\\\n* **Open Source Advancements:** Open source models and tools are democratizing AI, empowering smaller organizations to develop customized solutions. This is particularly relevant in industries like finance, healthcare, and law where specialized data and models are crucial.\\\\n* **Virtual Agents:** With enhanced capabilities, virtual agents are moving beyond simple chatbots towards task automation and seamless interaction with multimodal AI.\\\\n* **Regulation and Ethical Concerns:** The rapid development of AI raises significant ethical concerns, leading to increased regulation and scrutiny. Copyright and data privacy issues are particularly challenging, requiring careful consideration for responsible AI development and deployment.\\\\n* **Shadow AI:** Businesses must be aware of \\\\\"shadow AI,\\\\\" where employees utilize generative AI tools without proper oversight. This can lead to security, privacy, and compliance risks.\\\\n\\\\n**Overall, 2024 is a pivotal year for AI, with the focus shifting towards responsible adoption, practical applications, and addressing emerging ethical and regulatory challenges.** \\\\n\", \"created_at\": \"2024-09-01T11:42:41.490570\"}'"
      ]
     },
     "execution_count": 8,
     "metadata": {},
     "output_type": "execute_result"
    }
   ],
   "source": [
    "import json\n",
    "\n",
    "\n",
    "sample_content = json.dumps(sample.dict())\n",
    "sample_content"
   ]
  },
  {
   "cell_type": "code",
   "execution_count": 9,
   "metadata": {},
   "outputs": [
    {
     "data": {
      "text/plain": [
       "True"
      ]
     },
     "execution_count": 9,
     "metadata": {},
     "output_type": "execute_result"
    }
   ],
   "source": [
    "redis_db.set_article(id=sample.id,\n",
    "                     role='producer',\n",
    "                     content=sample_content)"
   ]
  },
  {
   "cell_type": "code",
   "execution_count": 3,
   "metadata": {},
   "outputs": [],
   "source": [
    "response = redis_db.get_article(id='61e1fe1c-5f98-443c-aa48-a2994dbf44ce',\n",
    "                     role='customer')"
   ]
  },
  {
   "cell_type": "code",
   "execution_count": 4,
   "metadata": {},
   "outputs": [
    {
     "data": {
      "text/plain": [
       "'{\"id\": \"61e1fe1c-5f98-443c-aa48-a2994dbf44ce\", \"title\": \"The Top Artificial Intelligence Trends | IBM\", \"description\": \"Adapting to emerging trends is essential to maximizing potential, minimizing risk and responsibly scaling generative AI adoption.\", \"source\": \"https://www.ibm.com/think/insights/artificial-intelligence-trends\", \"summary\": \"## Key AI Trends Shaping 2024: From Multimodality to Regulation\\\\n\\\\nThis article from IBM highlights the most important AI trends to watch in 2024, focusing on the evolution of generative AI beyond the initial hype and its implications for businesses. \\\\n\\\\n**Key Takeaways:**\\\\n\\\\n* **Shifting Expectations:** Generative AI is moving from \\\\\"peak hype\\\\\" to a more realistic understanding of its capabilities. Businesses are integrating AI tools into existing workflows rather than relying solely on standalone solutions.\\\\n* **Multimodal AI:** The next frontier is multimodal AI, where models can process and generate multiple data types (text, images, video, etc.). This enables more intuitive and versatile applications like AI assistants that can understand and respond to complex queries.\\\\n* **Smaller Models:** The focus is shifting towards smaller, more efficient models, driven by increasing hardware costs and the desire for local deployment. Smaller models are easier to train, less resource-intensive, and can be run on edge devices, addressing privacy and security concerns.\\\\n* **Open Source Advancements:** Open source models and tools are democratizing AI, empowering smaller organizations to develop customized solutions. This is particularly relevant in industries like finance, healthcare, and law where specialized data and models are crucial.\\\\n* **Virtual Agents:** With enhanced capabilities, virtual agents are moving beyond simple chatbots towards task automation and seamless interaction with multimodal AI.\\\\n* **Regulation and Ethical Concerns:** The rapid development of AI raises significant ethical concerns, leading to increased regulation and scrutiny. Copyright and data privacy issues are particularly challenging, requiring careful consideration for responsible AI development and deployment.\\\\n* **Shadow AI:** Businesses must be aware of \\\\\"shadow AI,\\\\\" where employees utilize generative AI tools without proper oversight. This can lead to security, privacy, and compliance risks.\\\\n\\\\n**Overall, 2024 is a pivotal year for AI, with the focus shifting towards responsible adoption, practical applications, and addressing emerging ethical and regulatory challenges.** \\\\n\", \"created_at\": \"2024-09-01T11:42:41.490570\"}'"
      ]
     },
     "execution_count": 4,
     "metadata": {},
     "output_type": "execute_result"
    }
   ],
   "source": [
    "response"
   ]
  },
  {
   "cell_type": "code",
   "execution_count": 6,
   "metadata": {},
   "outputs": [
    {
     "data": {
      "text/plain": [
       "{'id': '61e1fe1c-5f98-443c-aa48-a2994dbf44ce',\n",
       " 'title': 'The Top Artificial Intelligence Trends | IBM',\n",
       " 'description': 'Adapting to emerging trends is essential to maximizing potential, minimizing risk and responsibly scaling generative AI adoption.',\n",
       " 'source': 'https://www.ibm.com/think/insights/artificial-intelligence-trends',\n",
       " 'summary': '## Key AI Trends Shaping 2024: From Multimodality to Regulation\\n\\nThis article from IBM highlights the most important AI trends to watch in 2024, focusing on the evolution of generative AI beyond the initial hype and its implications for businesses. \\n\\n**Key Takeaways:**\\n\\n* **Shifting Expectations:** Generative AI is moving from \"peak hype\" to a more realistic understanding of its capabilities. Businesses are integrating AI tools into existing workflows rather than relying solely on standalone solutions.\\n* **Multimodal AI:** The next frontier is multimodal AI, where models can process and generate multiple data types (text, images, video, etc.). This enables more intuitive and versatile applications like AI assistants that can understand and respond to complex queries.\\n* **Smaller Models:** The focus is shifting towards smaller, more efficient models, driven by increasing hardware costs and the desire for local deployment. Smaller models are easier to train, less resource-intensive, and can be run on edge devices, addressing privacy and security concerns.\\n* **Open Source Advancements:** Open source models and tools are democratizing AI, empowering smaller organizations to develop customized solutions. This is particularly relevant in industries like finance, healthcare, and law where specialized data and models are crucial.\\n* **Virtual Agents:** With enhanced capabilities, virtual agents are moving beyond simple chatbots towards task automation and seamless interaction with multimodal AI.\\n* **Regulation and Ethical Concerns:** The rapid development of AI raises significant ethical concerns, leading to increased regulation and scrutiny. Copyright and data privacy issues are particularly challenging, requiring careful consideration for responsible AI development and deployment.\\n* **Shadow AI:** Businesses must be aware of \"shadow AI,\" where employees utilize generative AI tools without proper oversight. This can lead to security, privacy, and compliance risks.\\n\\n**Overall, 2024 is a pivotal year for AI, with the focus shifting towards responsible adoption, practical applications, and addressing emerging ethical and regulatory challenges.** \\n',\n",
       " 'created_at': '2024-09-01T11:42:41.490570'}"
      ]
     },
     "execution_count": 6,
     "metadata": {},
     "output_type": "execute_result"
    }
   ],
   "source": [
    "import json \n",
    "\n",
    "\n",
    "json.loads(response)"
   ]
  },
  {
   "cell_type": "code",
   "execution_count": 1,
   "metadata": {},
   "outputs": [
    {
     "data": {
      "text/plain": [
       "<redis.client.Redis(<redis.connection.ConnectionPool(<redis.connection.Connection(host=localhost,port=6379,db=0)>)>)>"
      ]
     },
     "execution_count": 1,
     "metadata": {},
     "output_type": "execute_result"
    }
   ],
   "source": [
    "import redis\n",
    "\n",
    "r = redis.Redis(host='localhost', port=6379, decode_responses=True)\n",
    "r"
   ]
  },
  {
   "cell_type": "code",
   "execution_count": 2,
   "metadata": {},
   "outputs": [
    {
     "data": {
      "text/plain": [
       "True"
      ]
     },
     "execution_count": 2,
     "metadata": {},
     "output_type": "execute_result"
    }
   ],
   "source": [
    "r.set('foo', 'bar')\n"
   ]
  },
  {
   "cell_type": "code",
   "execution_count": 3,
   "metadata": {},
   "outputs": [
    {
     "data": {
      "text/plain": [
       "'bar'"
      ]
     },
     "execution_count": 3,
     "metadata": {},
     "output_type": "execute_result"
    }
   ],
   "source": [
    "r.get('foo')"
   ]
  },
  {
   "cell_type": "code",
   "execution_count": 8,
   "metadata": {},
   "outputs": [],
   "source": [
    "from uuid import uuid4, UUID\n",
    "from pydantic import BaseModel\n",
    "\n",
    "\n",
    "class Event(BaseModel): \n",
    "    id: int\n",
    "    title: str\n",
    "    article_id: UUID\n",
    "\n",
    "class Article(BaseModel): \n",
    "    id: UUID = uuid4()\n",
    "    title: str\n",
    "    description: str\n",
    "    source: str\n",
    "    summary: str\n",
    "\n",
    "    def display(self): \n",
    "        return f\"\"\"Title: {self.title} \\nAbstract: {self.description} \\nSummary: {self.summary} \\nSource: {self.source}\"\"\""
   ]
  },
  {
   "cell_type": "code",
   "execution_count": 10,
   "metadata": {},
   "outputs": [],
   "source": [
    "aritcle = {\n",
    "    'title': 'abc', \n",
    "    'description': 'abc', \n",
    "    'source': 'abc', \n",
    "    'summary': 'abc', \n",
    "}\n",
    "\n",
    "art = Article(**aritcle)"
   ]
  },
  {
   "cell_type": "code",
   "execution_count": 13,
   "metadata": {},
   "outputs": [
    {
     "data": {
      "text/plain": [
       "UUID('6da10244-d6f3-4e55-9960-d0910053ece6')"
      ]
     },
     "execution_count": 13,
     "metadata": {},
     "output_type": "execute_result"
    }
   ],
   "source": [
    "art.id"
   ]
  }
 ],
 "metadata": {
  "kernelspec": {
   "display_name": "octo",
   "language": "python",
   "name": "python3"
  },
  "language_info": {
   "codemirror_mode": {
    "name": "ipython",
    "version": 3
   },
   "file_extension": ".py",
   "mimetype": "text/x-python",
   "name": "python",
   "nbconvert_exporter": "python",
   "pygments_lexer": "ipython3",
   "version": "3.10.14"
  }
 },
 "nbformat": 4,
 "nbformat_minor": 2
}
