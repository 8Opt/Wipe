{
 "cells": [
  {
   "cell_type": "code",
   "execution_count": 1,
   "metadata": {},
   "outputs": [
    {
     "name": "stderr",
     "output_type": "stream",
     "text": [
      "USER_AGENT environment variable not set, consider setting it to identify your requests.\n"
     ]
    },
    {
     "data": {
      "text/plain": [
       "True"
      ]
     },
     "execution_count": 1,
     "metadata": {},
     "output_type": "execute_result"
    }
   ],
   "source": [
    "import os\n",
    "from dotenv import load_dotenv\n",
    "\n",
    "\n",
    "from wipe.helpers import read_yaml\n",
    "from wipe.llms import GenModel\n",
    "from wipe.pre_processing import clean\n",
    "from wipe.prompts import SUMMARY_ARTICLE\n",
    "from wipe.tools import SmartScraper, TavilySearcher\n",
    "\n",
    "load_dotenv()"
   ]
  },
  {
   "cell_type": "code",
   "execution_count": 2,
   "metadata": {},
   "outputs": [],
   "source": [
    "os.environ['TAVILY_API_KEY'] = os.getenv('TAVILY_API_KEY')\n",
    "os.environ['GROQ_API_KEY'] = os.getenv('GROQ_API_KEY')\n",
    "os.environ['GOOGLE_API_KEY'] = os.getenv('GEMINI_API_KEY')"
   ]
  },
  {
   "cell_type": "code",
   "execution_count": 3,
   "metadata": {},
   "outputs": [
    {
     "data": {
      "text/plain": [
       "{'summarizer': {'provider': 'gemini',\n",
       "  'llm': {'model': 'models/gemini-1.5-flash', 'temperature': 0.8}},\n",
       " 'search': {'max_results': 10,\n",
       "  'search_depth': 'basic',\n",
       "  'include_answer': True,\n",
       "  'include_images': False,\n",
       "  'include_raw_content': False}}"
      ]
     },
     "execution_count": 3,
     "metadata": {},
     "output_type": "execute_result"
    }
   ],
   "source": [
    "config = read_yaml('./config.yaml')\n",
    "config"
   ]
  },
  {
   "cell_type": "code",
   "execution_count": 4,
   "metadata": {},
   "outputs": [],
   "source": [
    "scraper = SmartScraper()\n",
    "searcher = TavilySearcher(config=config['search'])"
   ]
  },
  {
   "cell_type": "code",
   "execution_count": 5,
   "metadata": {},
   "outputs": [
    {
     "data": {
      "text/plain": [
       "{'query': 'What is the latest trend in AI 2024?',\n",
       " 'follow_up_questions': None,\n",
       " 'answer': 'In 2024, the latest trends in AI include increased accessibility, nuance, and integration into technologies that enhance everyday tasks. Additionally, roles such as prompt engineers and AI managers are emerging alongside traditional engineering positions, reflecting the evolving landscape of AI applications and development. The use of digital twins to model human behaviors and the convergence of digital twins with industrial simulations and AI-based agent-based simulations are also noteworthy trends in AI for 2024.',\n",
       " 'images': [],\n",
       " 'results': [{'title': '3 big AI trends to watch in 2024 | news.microsoft.com',\n",
       "   'url': 'https://news.microsoft.com/three-big-ai-trends-to-watch-in-2024/',\n",
       "   'content': '3 big AI trends to watch in 2024. By Vanessa Ho 2023 was a major year for generative AI, as it went from research labs to real life with millions of people using it through popular tools like ChatGPT and Microsoft Copilot. This year, AI is expected to become more accessible, nuanced and integrated in technologies that improve everyday tasks and ...',\n",
       "   'score': 0.9948803,\n",
       "   'raw_content': None},\n",
       "  {'title': 'The most important AI trends in 2024 | YouTube',\n",
       "   'url': 'https://www.youtube.com/watch?v=sGZ6AlAnULc',\n",
       "   'content': 'The most important AI trends in 2024 IBM Technology 767K subscribers Subscribed 5.6K 208K views 3 months ago #ai #trends #llm',\n",
       "   'score': 0.9851576,\n",
       "   'raw_content': None},\n",
       "  {'title': 'The 10 Most Important AI Trends For 2024 Everyone Must Be ... | Forbes',\n",
       "   'url': 'https://www.forbes.com/sites/bernardmarr/2023/09/18/the-10-most-important-ai-trends-for-2024-everyone-must-be-ready-for-now/',\n",
       "   'content': 'Although I don’t see coding and software engineering jobs vanishing in 2024 (someone needs to make the AI tools in the first place, after all), there will be a lot of exciting opportunities for people who have good ideas and a love of solving problems, but not necessarily hard technical skills.\\n As well as the engineers and technicians needed to build systems, we’ll see openings for roles such as prompt engineers, who create the instructions to tell AI applications what to do, and AI managers, who oversee teams of virtual workers. Read more about these topics in my book, The Future Internet: How the Metaverse, Web 3.0, and Blockchain Will Transform Business and Society and ‘Business Trends in Practice, which won the 2022 Business Book of the Year award. More From Forbes\\nThe 10 Most Important AI Trends For 2024 Everyone Must Be Ready For Now\\nThe speed at which artificial intelligence (AI) evolves and integrates into our lives is only going to increase in 2024.\\n 2023\\nEthical AI\\nAI has the potential to be so disruptive that it’s essential that it is developed and used in a responsible way that minimizes its potential to cause harm.',\n",
       "   'score': 0.9802431,\n",
       "   'raw_content': None},\n",
       "  {'title': 'The state of AI in early 2024: Gen AI adoption spikes and starts to ...',\n",
       "   'url': 'https://www.mckinsey.com/capabilities/quantumblack/our-insights/the-state-of-ai',\n",
       "   'content': 'In this latest analysis, we look at the state of AI in early 2024 and new trends and patterns that are emerging in the wake of growing gen AI adoption.',\n",
       "   'score': 0.97895545,\n",
       "   'raw_content': None},\n",
       "  {'title': '10 top AI and machine learning trends for 2024 | TechTarget',\n",
       "   'url': 'https://www.techtarget.com/searchenterpriseai/tip/9-top-AI-and-machine-learning-trends',\n",
       "   'content': 'Digital twins are also now used to model and simulate human behaviors and to evaluate alternative scenarios of the future, paving the way, said experts, to the convergence of digital twins with traditional industrial simulations and AI-based agent-based simulation.\\n \"Access to compute, sensors, data and state-of-the-art vision models are creating opportunities to automate processes that require humans to visually inspect and interpret objects in the real world,\" said Scott Likens, innovation and trust technology leader at PwC.\\nIn back office operations, improved machine vision will help streamline document workflows. As the airline giant moves more of its data workloads to the cloud, tools from Intel\\'s Granulate are making platforms such as ...\\nThe vendor\\'s new platform, now in beta testing, combines its existing lakehouse with AI to better enable users to manage and ...\\n The data management and BI specialist has released Data Intelligence, an AI-driven suite that includes data quality and data ...\\nSupply chain professionals want more technologies such as AI for visibility and traceability in 2024; however, sustainability and...\\n 10 top AI and machine learning trends for 2023\\nMulti-modal learning, ChatGPT, the industrial metaverse -- learn about the top trends in AI for 2023 and how they promise to transform how business gets done.\\n',\n",
       "   'score': 0.97085404,\n",
       "   'raw_content': None},\n",
       "  {'title': 'The 10 Biggest Generative AI Trends For 2024 Everyone Must Be ... | Forbes',\n",
       "   'url': 'https://www.forbes.com/sites/bernardmarr/2023/10/02/the-10-biggest-generative-ai-trends-for-2024-everyone-must-be-ready-for-now/',\n",
       "   'content': 'You can read more about future tech and business trends in my books, The Future Internet: How the Metaverse, Web 3.0, and Blockchain Will Transform Business and Society, Future Skills: The 20 Skills And Competencies Everyone Needs To Succeed In A Digital World and Business Trends in Practice, which won the 2022 Business Book of the Year award. This is something that will become more common over the next year, and it should soon be normal to be able to talk to an AI about a picture or a video in the same way we can talk to it about text today.\\n More From Forbes\\nThe 10 Biggest Generative AI Trends For 2024 Everyone Must Be Ready For Now\\nGenerative AI was the explosive breakout tech trend of 2023, capturing the attention of not only techies and futurists but mainstream audiences, too, with its ability to create seemingly human-like content.\\n 4 Generative Audio And Speech\\nAs with video and design tools, 2024 will be the year when AI-generated audio and speech become as ubiquitous as AI-generated words and pictures have become in 2023. I expect to see the subtly robotic qualities that are still usually detectable in all but the most sophisticated AI-generated speech start to vanish as tools become better at simulating the tones and inflections that make up human speech.\\n',\n",
       "   'score': 0.9563905,\n",
       "   'raw_content': None},\n",
       "  {'title': 'The 5 Biggest Artificial Intelligence Trends For 2024 | Forbes',\n",
       "   'url': 'https://www.forbes.com/sites/bernardmarr/2023/11/01/the-top-5-artificial-intelligence-trends-for-2024/',\n",
       "   'content': 'You can read more about future tech and business trends in my books, The Future Internet: How the Metaverse, Web 3.0, and Blockchain Will Transform Business and Society, Future Skills: The 20 Skills And Competencies Everyone Needs To Succeed In A Digital World and Business Trends in Practice, which won the 2022 Business Book of the Year award. Next Generation of Generative AI\\nTaking the prime position on our list is the next generation of generative AI, advancing beyond the confines of simple chatbots and whimsical meme generators. It’s been a year since OpenAI released ChatGPT, opening the door to seamlessly weave AI into the fabric of our daily lives, propelling industries into the future and even prompting regulatory shifts. And don’t forget to subscribe to my newsletter and follow me on X (Twitter), LinkedIn, and YouTube for more on the future trends in business and technology. As we approach 2024, experts foresee a blossoming interest in AI ethics education and a heightened prioritization of ethical considerations within AI research and development realms.\\n',\n",
       "   'score': 0.9291838,\n",
       "   'raw_content': None},\n",
       "  {'title': 'The Top Artificial Intelligence Trends | IBM',\n",
       "   'url': 'https://www.ibm.com/think/insights/artificial-intelligence-trends',\n",
       "   'content': '2022 was the year that generative artificial intelligence (AI) exploded into the public consciousness, and 2023 was the year it began to take root in the business world. 2024 thus stands to be a pivotal year for the future of AI, as researchers and enterprises seek to establish how this evolutionary leap in technology can be most practically integrated into our everyday lives.',\n",
       "   'score': 0.8115267,\n",
       "   'raw_content': None},\n",
       "  {'title': 'What to Expect in AI in 2024 | hai.stanford.edu',\n",
       "   'url': 'https://hai.stanford.edu/news/what-expect-ai-2024',\n",
       "   'content': 'They need to pass legislation like the CREATE AI Act, adhere to the elements called on by the new EO, and invest more in the public sector to ensure America’s leadership in creating AI technology steeped in the values we stand for.\\n Asking Big Questions, Applying New Policies\\nOne of my hopes for 2024 is that we can have the wherewithal to continue to ask the hard questions, the critical questions about what we want from artificial intelligence in our lives, in our communities, in education, in our society. Then\\xa0in late October, President Biden signed an Executive Order (EO) on the Safe, Secure, and Trustworthy Development and Use of Artificial Intelligence that demonstrates his administration’s commitment to not only to foster a vibrant AI ecosystem but also to harness and govern the technology. James Landay, Anand Rajaraman and Venky Harinarayan Professor, School of Engineering, Professor of Computer Science, Stanford University; Vice-Director and Faculty Director of Research, Stanford HAI\\nGPUs Shortage\\nI’m worried about a global shortage of availability of GPU processors—the special processors upon which lots of AI runs. But that’s so critical: putting something out there in earnest, understanding what your rationales are, and saying this is where we are right now with the way we understand it and in the future we may add more nuances into these policies.',\n",
       "   'score': 0.75346667,\n",
       "   'raw_content': None},\n",
       "  {'title': '15 Graphs That Explain the State of AI in 2024 | IEEE Spectrum',\n",
       "   'url': 'https://spectrum.ieee.org/ai-index-2024',\n",
       "   'content': \"In 2022 (the most recent year for which the Index has data), 70 precent of new AI PhDs in North America took jobs in industry. It's a continuation of a trend that's been playing out over the ...\",\n",
       "   'score': 0.72661966,\n",
       "   'raw_content': None}],\n",
       " 'response_time': 3.37}"
      ]
     },
     "execution_count": 5,
     "metadata": {},
     "output_type": "execute_result"
    }
   ],
   "source": [
    "prompt = \"What is the latest trend in AI 2024?\"\n",
    "searcher.run(prompt)"
   ]
  },
  {
   "cell_type": "code",
   "execution_count": null,
   "metadata": {},
   "outputs": [],
   "source": []
  }
 ],
 "metadata": {
  "kernelspec": {
   "display_name": "octo",
   "language": "python",
   "name": "python3"
  },
  "language_info": {
   "codemirror_mode": {
    "name": "ipython",
    "version": 3
   },
   "file_extension": ".py",
   "mimetype": "text/x-python",
   "name": "python",
   "nbconvert_exporter": "python",
   "pygments_lexer": "ipython3",
   "version": "3.10.14"
  }
 },
 "nbformat": 4,
 "nbformat_minor": 2
}
